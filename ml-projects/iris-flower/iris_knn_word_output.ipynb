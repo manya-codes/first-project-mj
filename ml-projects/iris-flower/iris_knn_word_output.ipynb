{
 "cells": [
  {
   "cell_type": "code",
   "execution_count": 3,
   "id": "e213b654-34ed-49db-83fb-3d4395f7791d",
   "metadata": {
    "scrolled": true
   },
   "outputs": [
    {
     "name": "stdout",
     "output_type": "stream",
     "text": [
      " Predicted flower types: [np.str_('versicolor'), np.str_('setosa'), np.str_('virginica'), np.str_('versicolor'), np.str_('versicolor'), np.str_('setosa'), np.str_('versicolor'), np.str_('virginica'), np.str_('versicolor'), np.str_('versicolor'), np.str_('virginica'), np.str_('setosa'), np.str_('setosa'), np.str_('setosa'), np.str_('setosa'), np.str_('versicolor'), np.str_('virginica'), np.str_('versicolor'), np.str_('versicolor'), np.str_('virginica'), np.str_('setosa'), np.str_('virginica'), np.str_('setosa'), np.str_('virginica'), np.str_('virginica'), np.str_('virginica'), np.str_('virginica'), np.str_('virginica'), np.str_('setosa'), np.str_('setosa'), np.str_('setosa'), np.str_('setosa'), np.str_('versicolor'), np.str_('setosa'), np.str_('setosa'), np.str_('virginica'), np.str_('versicolor'), np.str_('setosa'), np.str_('setosa'), np.str_('setosa'), np.str_('virginica'), np.str_('versicolor'), np.str_('versicolor'), np.str_('setosa'), np.str_('setosa')]\n",
      " Actual flower types:    [np.str_('versicolor'), np.str_('setosa'), np.str_('virginica'), np.str_('versicolor'), np.str_('versicolor'), np.str_('setosa'), np.str_('versicolor'), np.str_('virginica'), np.str_('versicolor'), np.str_('versicolor'), np.str_('virginica'), np.str_('setosa'), np.str_('setosa'), np.str_('setosa'), np.str_('setosa'), np.str_('versicolor'), np.str_('virginica'), np.str_('versicolor'), np.str_('versicolor'), np.str_('virginica'), np.str_('setosa'), np.str_('virginica'), np.str_('setosa'), np.str_('virginica'), np.str_('virginica'), np.str_('virginica'), np.str_('virginica'), np.str_('virginica'), np.str_('setosa'), np.str_('setosa'), np.str_('setosa'), np.str_('setosa'), np.str_('versicolor'), np.str_('setosa'), np.str_('setosa'), np.str_('virginica'), np.str_('versicolor'), np.str_('setosa'), np.str_('setosa'), np.str_('setosa'), np.str_('virginica'), np.str_('versicolor'), np.str_('versicolor'), np.str_('setosa'), np.str_('setosa')]\n",
      "Accuracy: 1.0\n"
     ]
    }
   ],
   "source": [
    "from sklearn.datasets import load_iris\n",
    "from sklearn.model_selection import train_test_split\n",
    "from sklearn.neighbors import KNeighborsClassifier\n",
    "from sklearn.metrics import accuracy_score\n",
    "\n",
    "# Load dataset\n",
    "iris = load_iris()\n",
    "X = iris.data\n",
    "y = iris.target\n",
    "\n",
    "# Split into train & test sets\n",
    "X_train, X_test, y_train, y_test = train_test_split(X, y, test_size=0.3, random_state=42)\n",
    "\n",
    "# Train model\n",
    "clf = KNeighborsClassifier(n_neighbors=3)\n",
    "clf.fit(X_train, y_train)\n",
    "\n",
    "#predictions\n",
    "y_pred = clf.predict(X_test)\n",
    "\n",
    "# Map target numbers to names\n",
    "target_names = iris.target_names  # ['setosa' 'versicolor' 'virginica']\n",
    "y_pred_names = [target_names[i] for i in y_pred]\n",
    "y_test_names = [target_names[i] for i in y_test]\n",
    "\n",
    "# Print actual vs predicted in flower name form\n",
    "print(\" Predicted flower types:\", y_pred_names)\n",
    "print(\" Actual flower types:   \", y_test_names)\n",
    "print(\"Accuracy:\", accuracy_score(y_test_names, y_pred_names))\n"
   ]
  },
  {
   "cell_type": "code",
   "execution_count": null,
   "id": "2106242d-3bab-44d1-8d99-2de893c67322",
   "metadata": {},
   "outputs": [],
   "source": []
  },
  {
   "cell_type": "code",
   "execution_count": null,
   "id": "ab4f4904-d901-4b15-a4dd-6e832989e37c",
   "metadata": {},
   "outputs": [],
   "source": []
  }
 ],
 "metadata": {
  "kernelspec": {
   "display_name": "Python 3 (ipykernel)",
   "language": "python",
   "name": "python3"
  },
  "language_info": {
   "codemirror_mode": {
    "name": "ipython",
    "version": 3
   },
   "file_extension": ".py",
   "mimetype": "text/x-python",
   "name": "python",
   "nbconvert_exporter": "python",
   "pygments_lexer": "ipython3",
   "version": "3.12.3"
  }
 },
 "nbformat": 4,
 "nbformat_minor": 5
}
